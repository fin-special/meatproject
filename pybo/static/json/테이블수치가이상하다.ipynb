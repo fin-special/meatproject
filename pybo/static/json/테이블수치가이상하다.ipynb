{
 "cells": [
  {
   "cell_type": "code",
   "execution_count": null,
   "metadata": {},
   "outputs": [],
   "source": [
    "import json\n",
    "\n",
    "def predict_price_all(filepath, column):\n",
    "    meat_sum = []\n",
    "    meat_list = []\n",
    "    meat_avg = 0\n",
    "\n",
    "    with open(filepath, 'r') as file:\n",
    "        data = json.load(file)\n",
    "\n",
    "    for i in range(28):\n",
    "        if column == 'p5_6':\n",
    "            meat_sum.append(data[i][column])\n",
    "            meat_avg += meat_sum[i]\n",
    "\n",
    "            if len(meat_sum) % 7 == 0:\n",
    "                meat_avg = int(meat_avg/7)    \n",
    "                meat_list.append(meat_avg)\n",
    "        \n",
    "        if column == 'p7_8':\n",
    "            meat_sum.append(data[i][column])\n",
    "            meat_avg += meat_sum[i]\n",
    "\n",
    "            if len(meat_sum) % 7 == 0:\n",
    "                meat_avg = int(meat_avg/7)    \n",
    "                meat_list.append(meat_avg)\n",
    "\n",
    "        if column == 'p9_10':\n",
    "            meat_sum.append(data[i][column])\n",
    "            meat_avg += meat_sum[i]\n",
    "\n",
    "            if len(meat_sum) % 7 == 0:\n",
    "                meat_avg = int(meat_avg/7)    \n",
    "                meat_list.append(meat_avg)\n",
    "\n",
    "        if column == 'p11':\n",
    "            meat_sum.append(data[i][column])\n",
    "            meat_avg += meat_sum[i]\n",
    "\n",
    "            if len(meat_sum) % 7 == 0:\n",
    "                meat_avg = int(meat_avg/7)    \n",
    "                meat_list.append(meat_avg)\n",
    "\n",
    "        if column == 'p12':\n",
    "            meat_sum.append(data[i][column])\n",
    "            meat_avg += meat_sum[i]\n",
    "\n",
    "            if len(meat_sum) % 7 == 0:\n",
    "                meat_avg = int(meat_avg/7)    \n",
    "                meat_list.append(meat_avg)\n",
    "\n",
    "        if column == 'p13_16':\n",
    "            meat_sum.append(data[i][column])\n",
    "            meat_avg += meat_sum[i]\n",
    "\n",
    "            if len(meat_sum) % 7 == 0:\n",
    "                meat_avg = int(meat_avg/7)    \n",
    "                meat_list.append(meat_avg)\n",
    "\n",
    "        if column == 'yhat':\n",
    "            meat_sum.append(data[i][column])\n",
    "            meat_avg += meat_sum[i]\n",
    "\n",
    "            if len(meat_sum) % 7 == 0:\n",
    "                meat_avg = int(meat_avg/7)\n",
    "                meat_list.append(meat_avg)\n",
    "    return meat_list"
   ]
  }
 ],
 "metadata": {
  "kernelspec": {
   "display_name": "py3_10_4",
   "language": "python",
   "name": "python3"
  },
  "language_info": {
   "name": "python",
   "version": "3.10.4 | packaged by conda-forge | (main, Mar 30 2022, 08:38:02) [MSC v.1916 64 bit (AMD64)]"
  },
  "orig_nbformat": 4,
  "vscode": {
   "interpreter": {
    "hash": "15dc366109660a86d4d77e5331c748e0d181628ec5ba3643e97cd9995083175c"
   }
  }
 },
 "nbformat": 4,
 "nbformat_minor": 2
}
